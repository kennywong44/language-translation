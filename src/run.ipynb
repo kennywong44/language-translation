{
 "cells": [
  {
   "cell_type": "code",
   "execution_count": null,
   "id": "07ca8f54",
   "metadata": {},
   "outputs": [],
   "source": [
    "import os\n",
    "import csv\n",
    "from pathlib import Path "
   ]
  },
  {
   "cell_type": "code",
   "execution_count": null,
   "id": "b58e7dac",
   "metadata": {},
   "outputs": [],
   "source": [
    "# for reading text data\n",
    "def read_tsv(file_path):\n",
    "    with open(file_path, 'r') as file: \n",
    "        tsv_file = csv.reader(file, delimiter='\\t')\n",
    "        for line in tsv_file:\n",
    "            print(line)\n",
    "\n",
    "    print()"
   ]
  },
  {
   "cell_type": "code",
   "execution_count": null,
   "id": "b0ae9a79",
   "metadata": {},
   "outputs": [],
   "source": [
    "dataset_dir = Path(os.getcwd()).parent / 'dataset' / 'one'\n",
    "for lang_dir in dataset_dir.glob('*/dev.tsv'):\n",
    "    try: \n",
    "        read_tsv(lang_dir)\n",
    "    except Exception as e:\n",
    "        print(f\"Error processing {lang_dir}: {str(e)}\")"
   ]
  },
  {
   "cell_type": "code",
   "execution_count": 1,
   "id": "fdb6453c",
   "metadata": {},
   "outputs": [
    {
     "name": "stderr",
     "output_type": "stream",
     "text": [
      "c:\\Users\\kewon\\AppData\\Local\\Programs\\Python\\Python313\\Lib\\site-packages\\tqdm\\auto.py:21: TqdmWarning: IProgress not found. Please update jupyter and ipywidgets. See https://ipywidgets.readthedocs.io/en/stable/user_install.html\n",
      "  from .autonotebook import tqdm as notebook_tqdm\n",
      "Repo card metadata block was not found. Setting CardData to empty.\n"
     ]
    }
   ],
   "source": [
    "# for reading audio data\n",
    "'''\n",
    "output:\n",
    "<file_name, lang, timestamp>\n",
    "'''\n",
    "\n",
    "# you might need to install some dependencies to make this work\n",
    "from datasets import load_dataset\n",
    "\n",
    "dataset = load_dataset(\"MLCommons/speech-wikimedia\", split=\"train\")"
   ]
  },
  {
   "cell_type": "code",
   "execution_count": null,
   "id": "1c4d318a",
   "metadata": {},
   "outputs": [],
   "source": [
    "# Access the first sample\n",
    "sample = dataset[0]\n",
    "\n",
    "# Get the audio array and sampling rate\n",
    "audio_array = sample[\"audio\"][\"array\"]\n",
    "sampling_rate = sample[\"audio\"][\"sampling_rate\"]\n",
    "\n",
    "# Get the transcription\n",
    "transcription = sample[\"transcription\"]"
   ]
  }
 ],
 "metadata": {
  "kernelspec": {
   "display_name": "Python 3",
   "language": "python",
   "name": "python3"
  },
  "language_info": {
   "codemirror_mode": {
    "name": "ipython",
    "version": 3
   },
   "file_extension": ".py",
   "mimetype": "text/x-python",
   "name": "python",
   "nbconvert_exporter": "python",
   "pygments_lexer": "ipython3",
   "version": "3.13.1"
  }
 },
 "nbformat": 4,
 "nbformat_minor": 5
}
