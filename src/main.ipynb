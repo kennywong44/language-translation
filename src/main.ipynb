{
 "cells": [
  {
   "cell_type": "code",
   "execution_count": 1,
   "metadata": {},
   "outputs": [],
   "source": [
    "import os\n",
    "os.environ[\"TRANSFORMERS_NO_TF\"] = \"1\""
   ]
  },
  {
   "cell_type": "code",
   "execution_count": 2,
   "metadata": {},
   "outputs": [],
   "source": [
    "from transformers import MarianTokenizer, MarianMTModel, Seq2SeqTrainer, Seq2SeqTrainingArguments\n",
    "from datasets import Dataset\n",
    "import sacrebleu\n",
    "import pandas as pd\n",
    "import numpy as np\n",
    "from sklearn.model_selection import train_test_split"
   ]
  },
  {
   "cell_type": "code",
   "execution_count": 3,
   "metadata": {},
   "outputs": [
    {
     "name": "stdout",
     "output_type": "stream",
     "text": [
      "Sample from training data:\n"
     ]
    },
    {
     "data": {
      "text/html": [
       "<div>\n",
       "<style scoped>\n",
       "    .dataframe tbody tr th:only-of-type {\n",
       "        vertical-align: middle;\n",
       "    }\n",
       "\n",
       "    .dataframe tbody tr th {\n",
       "        vertical-align: top;\n",
       "    }\n",
       "\n",
       "    .dataframe thead th {\n",
       "        text-align: right;\n",
       "    }\n",
       "</style>\n",
       "<table border=\"1\" class=\"dataframe\">\n",
       "  <thead>\n",
       "    <tr style=\"text-align: right;\">\n",
       "      <th></th>\n",
       "      <th>english</th>\n",
       "      <th>indonesian</th>\n",
       "    </tr>\n",
       "  </thead>\n",
       "  <tbody>\n",
       "    <tr>\n",
       "      <th>29</th>\n",
       "      <td>My family and I were looking for a place to ea...</td>\n",
       "      <td>Saya sekeluarga sedang cari tempat makan habis...</td>\n",
       "    </tr>\n",
       "    <tr>\n",
       "      <th>535</th>\n",
       "      <td>This place offered indoor and outdoor seats. B...</td>\n",
       "      <td>Tempat ini menyediakan meja kursi di dalam dan...</td>\n",
       "    </tr>\n",
       "    <tr>\n",
       "      <th>695</th>\n",
       "      <td>I'm disappointed with the service. I just orde...</td>\n",
       "      <td>Saya kecewa dengan pelayanannya. Barusan saya ...</td>\n",
       "    </tr>\n",
       "    <tr>\n",
       "      <th>557</th>\n",
       "      <td>Seriously, Eiger's stuff are top notch</td>\n",
       "      <td>Eiger, itu barangnya bagus-bagus serius dah.</td>\n",
       "    </tr>\n",
       "    <tr>\n",
       "      <th>836</th>\n",
       "      <td>Watching Indonesian films on TV really annoys ...</td>\n",
       "      <td>Menonton film indonesia di tv ini, kadang biki...</td>\n",
       "    </tr>\n",
       "  </tbody>\n",
       "</table>\n",
       "</div>"
      ],
      "text/plain": [
       "                                               english  \\\n",
       "29   My family and I were looking for a place to ea...   \n",
       "535  This place offered indoor and outdoor seats. B...   \n",
       "695  I'm disappointed with the service. I just orde...   \n",
       "557             Seriously, Eiger's stuff are top notch   \n",
       "836  Watching Indonesian films on TV really annoys ...   \n",
       "\n",
       "                                            indonesian  \n",
       "29   Saya sekeluarga sedang cari tempat makan habis...  \n",
       "535  Tempat ini menyediakan meja kursi di dalam dan...  \n",
       "695  Saya kecewa dengan pelayanannya. Barusan saya ...  \n",
       "557       Eiger, itu barangnya bagus-bagus serius dah.  \n",
       "836  Menonton film indonesia di tv ini, kadang biki...  "
      ]
     },
     "metadata": {},
     "output_type": "display_data"
    }
   ],
   "source": [
    "# Load the cleaned NusaX-MT files\n",
    "train_df = pd.read_csv(\"/Users/justin/language-translation/dataset/train.csv\")\n",
    "valid_df = pd.read_csv(\"/Users/justin/language-translation/dataset/valid.csv\")\n",
    "test_df = pd.read_csv(\"/Users/justin/language-translation/dataset/test.csv\")\n",
    "\n",
    "# Combine and shuffle the full dataset\n",
    "combined_df = pd.concat([train_df, valid_df, test_df], ignore_index=True)\n",
    "\n",
    "# Create an 80/10/10 split\n",
    "train_df, temp_df = train_test_split(combined_df, test_size=0.2, random_state=42)\n",
    "valid_df, test_df = train_test_split(temp_df, test_size=0.5, random_state=42)\n",
    "\n",
    "# Preview a few training samples\n",
    "print(\"Sample from training data:\")\n",
    "display(train_df[['english', 'indonesian']].head())"
   ]
  },
  {
   "cell_type": "code",
   "execution_count": 4,
   "metadata": {},
   "outputs": [
    {
     "name": "stdout",
     "output_type": "stream",
     "text": [
      "\n",
      " Dataset Overview:\n"
     ]
    },
    {
     "data": {
      "text/html": [
       "<div>\n",
       "<style scoped>\n",
       "    .dataframe tbody tr th:only-of-type {\n",
       "        vertical-align: middle;\n",
       "    }\n",
       "\n",
       "    .dataframe tbody tr th {\n",
       "        vertical-align: top;\n",
       "    }\n",
       "\n",
       "    .dataframe thead th {\n",
       "        text-align: right;\n",
       "    }\n",
       "</style>\n",
       "<table border=\"1\" class=\"dataframe\">\n",
       "  <thead>\n",
       "    <tr style=\"text-align: right;\">\n",
       "      <th></th>\n",
       "      <th>Split</th>\n",
       "      <th>Total Rows</th>\n",
       "      <th>Missing (english)</th>\n",
       "      <th>Missing (indonesian)</th>\n",
       "    </tr>\n",
       "  </thead>\n",
       "  <tbody>\n",
       "    <tr>\n",
       "      <th>0</th>\n",
       "      <td>Train</td>\n",
       "      <td>800</td>\n",
       "      <td>0</td>\n",
       "      <td>0</td>\n",
       "    </tr>\n",
       "    <tr>\n",
       "      <th>1</th>\n",
       "      <td>Validation</td>\n",
       "      <td>100</td>\n",
       "      <td>0</td>\n",
       "      <td>0</td>\n",
       "    </tr>\n",
       "    <tr>\n",
       "      <th>2</th>\n",
       "      <td>Test</td>\n",
       "      <td>100</td>\n",
       "      <td>0</td>\n",
       "      <td>0</td>\n",
       "    </tr>\n",
       "  </tbody>\n",
       "</table>\n",
       "</div>"
      ],
      "text/plain": [
       "        Split  Total Rows  Missing (english)  Missing (indonesian)\n",
       "0       Train         800                  0                     0\n",
       "1  Validation         100                  0                     0\n",
       "2        Test         100                  0                     0"
      ]
     },
     "metadata": {},
     "output_type": "display_data"
    }
   ],
   "source": [
    "# Summary statistics of the dataset\n",
    "summary = {\n",
    "    \"Split\": [\"Train\", \"Validation\", \"Test\"],\n",
    "    \"Total Rows\": [len(train_df), len(valid_df), len(test_df)],\n",
    "    \"Missing (english)\": [\n",
    "        train_df['english'].isnull().sum(),\n",
    "        valid_df['english'].isnull().sum(),\n",
    "        test_df['english'].isnull().sum()\n",
    "    ],\n",
    "    \"Missing (indonesian)\": [\n",
    "        train_df['indonesian'].isnull().sum(),\n",
    "        valid_df['indonesian'].isnull().sum(),\n",
    "        test_df['indonesian'].isnull().sum()\n",
    "    ]\n",
    "}\n",
    "\n",
    "stats_df = pd.DataFrame(summary)\n",
    "print(\"\\n Dataset Overview:\")\n",
    "display(stats_df)"
   ]
  },
  {
   "cell_type": "code",
   "execution_count": 5,
   "metadata": {},
   "outputs": [
    {
     "data": {
      "application/vnd.jupyter.widget-view+json": {
       "model_id": "5b9680d4f6fa490dbc9260ae2c341779",
       "version_major": 2,
       "version_minor": 0
      },
      "text/plain": [
       "Map:   0%|          | 0/800 [00:00<?, ? examples/s]"
      ]
     },
     "metadata": {},
     "output_type": "display_data"
    },
    {
     "data": {
      "application/vnd.jupyter.widget-view+json": {
       "model_id": "04cc1b77cbb44fdf95b809bc77612232",
       "version_major": 2,
       "version_minor": 0
      },
      "text/plain": [
       "Map:   0%|          | 0/100 [00:00<?, ? examples/s]"
      ]
     },
     "metadata": {},
     "output_type": "display_data"
    },
    {
     "data": {
      "application/vnd.jupyter.widget-view+json": {
       "model_id": "0af224f1c3f942b192af4394adca9a66",
       "version_major": 2,
       "version_minor": 0
      },
      "text/plain": [
       "Map:   0%|          | 0/100 [00:00<?, ? examples/s]"
      ]
     },
     "metadata": {},
     "output_type": "display_data"
    }
   ],
   "source": [
    "# Rename the columns to match expected format\n",
    "train_data = train_df.rename(columns={\"english\": \"en\", \"indonesian\": \"id\"})\n",
    "valid_data = valid_df.rename(columns={\"english\": \"en\", \"indonesian\": \"id\"})\n",
    "test_data = test_df.rename(columns={\"english\": \"en\", \"indonesian\": \"id\"})\n",
    "\n",
    "# Convert to Hugging Face Dataset format\n",
    "train_dataset = Dataset.from_pandas(train_data[[\"en\", \"id\"]])\n",
    "valid_dataset = Dataset.from_pandas(valid_data[[\"en\", \"id\"]])\n",
    "test_dataset = Dataset.from_pandas(test_data[[\"en\", \"id\"]])\n",
    "\n",
    "# Wrap the translations in a dict format required by MarianMT\n",
    "def wrap_translation(example):\n",
    "    return {\"translation\": {\"en\": example[\"en\"], \"id\": example[\"id\"]}}\n",
    "\n",
    "train_dataset = train_dataset.map(wrap_translation)\n",
    "valid_dataset = valid_dataset.map(wrap_translation)\n",
    "test_dataset = test_dataset.map(wrap_translation)"
   ]
  },
  {
   "cell_type": "code",
   "execution_count": 6,
   "metadata": {},
   "outputs": [
    {
     "name": "stderr",
     "output_type": "stream",
     "text": [
      "/Users/justin/language-translation/nlp-env/lib/python3.9/site-packages/transformers/models/marian/tokenization_marian.py:175: UserWarning: Recommended: pip install sacremoses.\n",
      "  warnings.warn(\"Recommended: pip install sacremoses.\")\n"
     ]
    }
   ],
   "source": [
    "# Load the name of the pretrained model for English to Indonesian translation\n",
    "model_name = \"Helsinki-NLP/opus-mt-en-id\"\n",
    "\n",
    "# Load the tokenizer (this breaks text into subword units)\n",
    "tokenizer = MarianTokenizer.from_pretrained(model_name)\n",
    "\n",
    "# Load the pretrained MarianMT model (this will be fine-tuned later)\n",
    "model = MarianMTModel.from_pretrained(model_name)"
   ]
  },
  {
   "cell_type": "code",
   "execution_count": 7,
   "metadata": {},
   "outputs": [
    {
     "name": "stdout",
     "output_type": "stream",
     "text": [
      "MarianMTModel(\n",
      "  (model): MarianModel(\n",
      "    (shared): Embedding(54796, 512, padding_idx=54795)\n",
      "    (encoder): MarianEncoder(\n",
      "      (embed_tokens): Embedding(54796, 512, padding_idx=54795)\n",
      "      (embed_positions): MarianSinusoidalPositionalEmbedding(512, 512)\n",
      "      (layers): ModuleList(\n",
      "        (0-5): 6 x MarianEncoderLayer(\n",
      "          (self_attn): MarianAttention(\n",
      "            (k_proj): Linear(in_features=512, out_features=512, bias=True)\n",
      "            (v_proj): Linear(in_features=512, out_features=512, bias=True)\n",
      "            (q_proj): Linear(in_features=512, out_features=512, bias=True)\n",
      "            (out_proj): Linear(in_features=512, out_features=512, bias=True)\n",
      "          )\n",
      "          (self_attn_layer_norm): LayerNorm((512,), eps=1e-05, elementwise_affine=True)\n",
      "          (activation_fn): SiLU()\n",
      "          (fc1): Linear(in_features=512, out_features=2048, bias=True)\n",
      "          (fc2): Linear(in_features=2048, out_features=512, bias=True)\n",
      "          (final_layer_norm): LayerNorm((512,), eps=1e-05, elementwise_affine=True)\n",
      "        )\n",
      "      )\n",
      "    )\n",
      "    (decoder): MarianDecoder(\n",
      "      (embed_tokens): Embedding(54796, 512, padding_idx=54795)\n",
      "      (embed_positions): MarianSinusoidalPositionalEmbedding(512, 512)\n",
      "      (layers): ModuleList(\n",
      "        (0-5): 6 x MarianDecoderLayer(\n",
      "          (self_attn): MarianAttention(\n",
      "            (k_proj): Linear(in_features=512, out_features=512, bias=True)\n",
      "            (v_proj): Linear(in_features=512, out_features=512, bias=True)\n",
      "            (q_proj): Linear(in_features=512, out_features=512, bias=True)\n",
      "            (out_proj): Linear(in_features=512, out_features=512, bias=True)\n",
      "          )\n",
      "          (activation_fn): SiLU()\n",
      "          (self_attn_layer_norm): LayerNorm((512,), eps=1e-05, elementwise_affine=True)\n",
      "          (encoder_attn): MarianAttention(\n",
      "            (k_proj): Linear(in_features=512, out_features=512, bias=True)\n",
      "            (v_proj): Linear(in_features=512, out_features=512, bias=True)\n",
      "            (q_proj): Linear(in_features=512, out_features=512, bias=True)\n",
      "            (out_proj): Linear(in_features=512, out_features=512, bias=True)\n",
      "          )\n",
      "          (encoder_attn_layer_norm): LayerNorm((512,), eps=1e-05, elementwise_affine=True)\n",
      "          (fc1): Linear(in_features=512, out_features=2048, bias=True)\n",
      "          (fc2): Linear(in_features=2048, out_features=512, bias=True)\n",
      "          (final_layer_norm): LayerNorm((512,), eps=1e-05, elementwise_affine=True)\n",
      "        )\n",
      "      )\n",
      "    )\n",
      "  )\n",
      "  (lm_head): Linear(in_features=512, out_features=54796, bias=False)\n",
      ")\n"
     ]
    }
   ],
   "source": [
    "print(model)"
   ]
  },
  {
   "cell_type": "code",
   "execution_count": 8,
   "metadata": {},
   "outputs": [
    {
     "name": "stdout",
     "output_type": "stream",
     "text": [
      "MarianEncoder(\n",
      "  (embed_tokens): Embedding(54796, 512, padding_idx=54795)\n",
      "  (embed_positions): MarianSinusoidalPositionalEmbedding(512, 512)\n",
      "  (layers): ModuleList(\n",
      "    (0-5): 6 x MarianEncoderLayer(\n",
      "      (self_attn): MarianAttention(\n",
      "        (k_proj): Linear(in_features=512, out_features=512, bias=True)\n",
      "        (v_proj): Linear(in_features=512, out_features=512, bias=True)\n",
      "        (q_proj): Linear(in_features=512, out_features=512, bias=True)\n",
      "        (out_proj): Linear(in_features=512, out_features=512, bias=True)\n",
      "      )\n",
      "      (self_attn_layer_norm): LayerNorm((512,), eps=1e-05, elementwise_affine=True)\n",
      "      (activation_fn): SiLU()\n",
      "      (fc1): Linear(in_features=512, out_features=2048, bias=True)\n",
      "      (fc2): Linear(in_features=2048, out_features=512, bias=True)\n",
      "      (final_layer_norm): LayerNorm((512,), eps=1e-05, elementwise_affine=True)\n",
      "    )\n",
      "  )\n",
      ")\n"
     ]
    }
   ],
   "source": [
    "print(model.model.encoder)"
   ]
  },
  {
   "cell_type": "code",
   "execution_count": 9,
   "metadata": {},
   "outputs": [
    {
     "name": "stdout",
     "output_type": "stream",
     "text": [
      "MarianDecoder(\n",
      "  (embed_tokens): Embedding(54796, 512, padding_idx=54795)\n",
      "  (embed_positions): MarianSinusoidalPositionalEmbedding(512, 512)\n",
      "  (layers): ModuleList(\n",
      "    (0-5): 6 x MarianDecoderLayer(\n",
      "      (self_attn): MarianAttention(\n",
      "        (k_proj): Linear(in_features=512, out_features=512, bias=True)\n",
      "        (v_proj): Linear(in_features=512, out_features=512, bias=True)\n",
      "        (q_proj): Linear(in_features=512, out_features=512, bias=True)\n",
      "        (out_proj): Linear(in_features=512, out_features=512, bias=True)\n",
      "      )\n",
      "      (activation_fn): SiLU()\n",
      "      (self_attn_layer_norm): LayerNorm((512,), eps=1e-05, elementwise_affine=True)\n",
      "      (encoder_attn): MarianAttention(\n",
      "        (k_proj): Linear(in_features=512, out_features=512, bias=True)\n",
      "        (v_proj): Linear(in_features=512, out_features=512, bias=True)\n",
      "        (q_proj): Linear(in_features=512, out_features=512, bias=True)\n",
      "        (out_proj): Linear(in_features=512, out_features=512, bias=True)\n",
      "      )\n",
      "      (encoder_attn_layer_norm): LayerNorm((512,), eps=1e-05, elementwise_affine=True)\n",
      "      (fc1): Linear(in_features=512, out_features=2048, bias=True)\n",
      "      (fc2): Linear(in_features=2048, out_features=512, bias=True)\n",
      "      (final_layer_norm): LayerNorm((512,), eps=1e-05, elementwise_affine=True)\n",
      "    )\n",
      "  )\n",
      ")\n"
     ]
    }
   ],
   "source": [
    "print(model.model.decoder)"
   ]
  },
  {
   "cell_type": "code",
   "execution_count": 10,
   "metadata": {},
   "outputs": [],
   "source": [
    "def tokenize_batch(batch):\n",
    "    src_texts = [x[\"en\"] for x in batch[\"translation\"]]\n",
    "    tgt_texts = [x[\"id\"] for x in batch[\"translation\"]]\n",
    "\n",
    "    # Tokenize source\n",
    "    model_inputs = tokenizer(src_texts, max_length=128, padding=\"max_length\", truncation=True)\n",
    "\n",
    "    # Tokenize target (label) side\n",
    "    with tokenizer.as_target_tokenizer():\n",
    "        labels = tokenizer(tgt_texts, max_length=128, padding=\"max_length\", truncation=True)\n",
    "\n",
    "    # Set labels\n",
    "    model_inputs[\"labels\"] = labels[\"input_ids\"]\n",
    "    return model_inputs"
   ]
  },
  {
   "cell_type": "code",
   "execution_count": 11,
   "metadata": {},
   "outputs": [
    {
     "data": {
      "application/vnd.jupyter.widget-view+json": {
       "model_id": "b39e3d3b1c724976b7c74d667b00719b",
       "version_major": 2,
       "version_minor": 0
      },
      "text/plain": [
       "Map:   0%|          | 0/800 [00:00<?, ? examples/s]"
      ]
     },
     "metadata": {},
     "output_type": "display_data"
    },
    {
     "name": "stderr",
     "output_type": "stream",
     "text": [
      "/Users/justin/language-translation/nlp-env/lib/python3.9/site-packages/transformers/tokenization_utils_base.py:3980: UserWarning: `as_target_tokenizer` is deprecated and will be removed in v5 of Transformers. You can tokenize your labels by using the argument `text_target` of the regular `__call__` method (either in the same call as your input texts if you use the same keyword arguments, or in a separate call.\n",
      "  warnings.warn(\n"
     ]
    },
    {
     "data": {
      "application/vnd.jupyter.widget-view+json": {
       "model_id": "3994863a9697444ba6d95c0d7499c73c",
       "version_major": 2,
       "version_minor": 0
      },
      "text/plain": [
       "Map:   0%|          | 0/100 [00:00<?, ? examples/s]"
      ]
     },
     "metadata": {},
     "output_type": "display_data"
    }
   ],
   "source": [
    "import torch\n",
    "\n",
    "tokenized_train = train_dataset.map(\n",
    "    tokenize_batch,\n",
    "    batched=True,\n",
    "    remove_columns=train_dataset.column_names,\n",
    "    load_from_cache_file=False\n",
    ")\n",
    "\n",
    "tokenized_valid = valid_dataset.map(\n",
    "    tokenize_batch,\n",
    "    batched=True,\n",
    "    remove_columns=valid_dataset.column_names,\n",
    "    load_from_cache_file=False\n",
    ")"
   ]
  },
  {
   "cell_type": "code",
   "execution_count": null,
   "metadata": {},
   "outputs": [],
   "source": [
    "tokenized_train.set_format(type=\"torch\", columns=[\"input_ids\", \"attention_mask\", \"labels\"])\n",
    "tokenized_valid.set_format(type=\"torch\", columns=[\"input_ids\", \"attention_mask\", \"labels\"])"
   ]
  },
  {
   "cell_type": "code",
   "execution_count": 13,
   "metadata": {},
   "outputs": [
    {
     "name": "stdout",
     "output_type": "stream",
     "text": [
      "{'input_ids': tensor([  300,   597,    17,     7,   167,   701,    40,    15,   455,    12,\n",
      "         1070,   414,  2713,    15,  3693,     2,    75,   167, 11559,    59,\n",
      "         3773,    27,  7159,   195, 22291,    27,     6, 11858,     2, 15978,\n",
      "           55,   573,    15,  7159,    44,     6,   111,  1153,    16,     6,\n",
      "         2997,     2,    75,   194,   288,     5,    21,  8392, 36392,    27,\n",
      "           15,   458,   180,     2,    75,  3089,   178,    15, 37938,  1595,\n",
      "         1191,   452,     3,    59,   282,  2017, 16554,     2, 15184,   461,\n",
      "            6,   455,    58,  6518,    17,     6,  1308,    58,  9008,     2,\n",
      "            0, 54795, 54795, 54795, 54795, 54795, 54795, 54795, 54795, 54795,\n",
      "        54795, 54795, 54795, 54795, 54795, 54795, 54795, 54795, 54795, 54795,\n",
      "        54795, 54795, 54795, 54795, 54795, 54795, 54795, 54795, 54795, 54795,\n",
      "        54795, 54795, 54795, 54795, 54795, 54795, 54795, 54795, 54795, 54795,\n",
      "        54795, 54795, 54795, 54795, 54795, 54795, 54795, 54795]), 'attention_mask': tensor([1, 1, 1, 1, 1, 1, 1, 1, 1, 1, 1, 1, 1, 1, 1, 1, 1, 1, 1, 1, 1, 1, 1, 1,\n",
      "        1, 1, 1, 1, 1, 1, 1, 1, 1, 1, 1, 1, 1, 1, 1, 1, 1, 1, 1, 1, 1, 1, 1, 1,\n",
      "        1, 1, 1, 1, 1, 1, 1, 1, 1, 1, 1, 1, 1, 1, 1, 1, 1, 1, 1, 1, 1, 1, 1, 1,\n",
      "        1, 1, 1, 1, 1, 1, 1, 1, 1, 0, 0, 0, 0, 0, 0, 0, 0, 0, 0, 0, 0, 0, 0, 0,\n",
      "        0, 0, 0, 0, 0, 0, 0, 0, 0, 0, 0, 0, 0, 0, 0, 0, 0, 0, 0, 0, 0, 0, 0, 0,\n",
      "        0, 0, 0, 0, 0, 0, 0, 0]), 'labels': tensor([  200, 36721,   314,  1521,   270,   537,  2819, 10863,     2,   138,\n",
      "         6332,   537,    19,  1191,   452,   195, 23363,    19, 10760,     2,\n",
      "         9935,    14,  2397,   786,  1191,   452,    19,  2254,   392,     2,\n",
      "          685,   488,   107,    23,   537, 37157,     2, 46104,   173,   107,\n",
      "           64,  1191,   452,    11,  2458, 35826,   469,   153,  2017,  3115,\n",
      "            2,  5642,  2583,   270,    18, 13387,     2,     0, 54795, 54795,\n",
      "        54795, 54795, 54795, 54795, 54795, 54795, 54795, 54795, 54795, 54795,\n",
      "        54795, 54795, 54795, 54795, 54795, 54795, 54795, 54795, 54795, 54795,\n",
      "        54795, 54795, 54795, 54795, 54795, 54795, 54795, 54795, 54795, 54795,\n",
      "        54795, 54795, 54795, 54795, 54795, 54795, 54795, 54795, 54795, 54795,\n",
      "        54795, 54795, 54795, 54795, 54795, 54795, 54795, 54795, 54795, 54795,\n",
      "        54795, 54795, 54795, 54795, 54795, 54795, 54795, 54795, 54795, 54795,\n",
      "        54795, 54795, 54795, 54795, 54795, 54795, 54795, 54795])}\n"
     ]
    }
   ],
   "source": [
    "print(tokenized_train[0])"
   ]
  },
  {
   "cell_type": "code",
   "execution_count": 14,
   "metadata": {},
   "outputs": [],
   "source": [
    "import evaluate\n",
    "\n",
    "# Load BLEU scorer\n",
    "bleu = evaluate.load(\"sacrebleu\")\n",
    "\n",
    "# Function to decode and compute BLEU\n",
    "def compute_metrics(eval_preds):\n",
    "    predictions, labels = eval_preds\n",
    "\n",
    "    # Handle nested predictions\n",
    "    if isinstance(predictions[0], list) and isinstance(predictions[0][0], list):\n",
    "        predictions = [p[0] for p in predictions]\n",
    "\n",
    "    # Decode predictions and labels\n",
    "    decoded_preds = tokenizer.batch_decode(predictions, skip_special_tokens=True)\n",
    "\n",
    "    # Replace -100 (used as ignore_index) with pad token ID for decoding\n",
    "    labels = [[token if token != -100 else tokenizer.pad_token_id for token in label] for label in labels]\n",
    "    decoded_labels = tokenizer.batch_decode(labels, skip_special_tokens=True)\n",
    "\n",
    "    # Compute BLEU score\n",
    "    result = bleu.compute(predictions=decoded_preds, references=[[ref] for ref in decoded_labels])\n",
    "    return {\"bleu\": result[\"score\"]}"
   ]
  },
  {
   "cell_type": "code",
   "execution_count": 15,
   "metadata": {},
   "outputs": [],
   "source": [
    "from transformers import Seq2SeqTrainingArguments\n",
    "\n",
    "training_args = Seq2SeqTrainingArguments(\n",
    "    output_dir=\"./fine_tuned_final\",\n",
    "    per_device_train_batch_size=8,\n",
    "    per_device_eval_batch_size=8,\n",
    "    num_train_epochs=5,\n",
    "    learning_rate=5e-5,\n",
    "    predict_with_generate=True,\n",
    "    save_total_limit=2,\n",
    "    eval_strategy=\"epoch\",\n",
    "    save_strategy=\"epoch\"\n",
    ")"
   ]
  },
  {
   "cell_type": "code",
   "execution_count": 16,
   "metadata": {},
   "outputs": [
    {
     "name": "stderr",
     "output_type": "stream",
     "text": [
      "/var/folders/5d/9b0p16fx5kv659tsbhdcplkh0000gn/T/ipykernel_10123/624596874.py:7: FutureWarning: `tokenizer` is deprecated and will be removed in version 5.0.0 for `Seq2SeqTrainer.__init__`. Use `processing_class` instead.\n",
      "  trainer = Seq2SeqTrainer(\n"
     ]
    }
   ],
   "source": [
    "from transformers import Seq2SeqTrainer\n",
    "from transformers import DataCollatorForSeq2Seq\n",
    "\n",
    "data_collator = DataCollatorForSeq2Seq(tokenizer, model=model)\n",
    "\n",
    "# Create the Trainer object\n",
    "trainer = Seq2SeqTrainer(\n",
    "  model=model,\n",
    "  args=training_args,\n",
    "  train_dataset=tokenized_train,\n",
    "  eval_dataset=tokenized_valid,\n",
    "  tokenizer=tokenizer,\n",
    "  data_collator=data_collator,\n",
    "  compute_metrics=compute_metrics\n",
    ")"
   ]
  },
  {
   "cell_type": "code",
   "execution_count": 17,
   "metadata": {},
   "outputs": [
    {
     "name": "stderr",
     "output_type": "stream",
     "text": [
      "/Users/justin/language-translation/nlp-env/lib/python3.9/site-packages/torch/utils/data/dataloader.py:683: UserWarning: 'pin_memory' argument is set as true but not supported on MPS now, then device pinned memory won't be used.\n",
      "  warnings.warn(warn_msg)\n",
      "/Users/justin/language-translation/nlp-env/lib/python3.9/site-packages/transformers/data/data_collator.py:741: UserWarning: Creating a tensor from a list of numpy.ndarrays is extremely slow. Please consider converting the list to a single numpy.ndarray with numpy.array() before converting to a tensor. (Triggered internally at /Users/runner/work/pytorch/pytorch/pytorch/torch/csrc/utils/tensor_new.cpp:257.)\n",
      "  batch[\"labels\"] = torch.tensor(batch[\"labels\"], dtype=torch.int64)\n"
     ]
    },
    {
     "data": {
      "text/html": [
       "\n",
       "    <div>\n",
       "      \n",
       "      <progress value='500' max='500' style='width:300px; height:20px; vertical-align: middle;'></progress>\n",
       "      [500/500 04:52, Epoch 5/5]\n",
       "    </div>\n",
       "    <table border=\"1\" class=\"dataframe\">\n",
       "  <thead>\n",
       " <tr style=\"text-align: left;\">\n",
       "      <th>Epoch</th>\n",
       "      <th>Training Loss</th>\n",
       "      <th>Validation Loss</th>\n",
       "      <th>Bleu</th>\n",
       "    </tr>\n",
       "  </thead>\n",
       "  <tbody>\n",
       "    <tr>\n",
       "      <td>1</td>\n",
       "      <td>No log</td>\n",
       "      <td>0.684998</td>\n",
       "      <td>18.235712</td>\n",
       "    </tr>\n",
       "    <tr>\n",
       "      <td>2</td>\n",
       "      <td>No log</td>\n",
       "      <td>0.672100</td>\n",
       "      <td>19.166634</td>\n",
       "    </tr>\n",
       "    <tr>\n",
       "      <td>3</td>\n",
       "      <td>No log</td>\n",
       "      <td>0.671346</td>\n",
       "      <td>19.584352</td>\n",
       "    </tr>\n",
       "    <tr>\n",
       "      <td>4</td>\n",
       "      <td>No log</td>\n",
       "      <td>0.675122</td>\n",
       "      <td>19.771904</td>\n",
       "    </tr>\n",
       "    <tr>\n",
       "      <td>5</td>\n",
       "      <td>0.576000</td>\n",
       "      <td>0.677160</td>\n",
       "      <td>19.985906</td>\n",
       "    </tr>\n",
       "  </tbody>\n",
       "</table><p>"
      ],
      "text/plain": [
       "<IPython.core.display.HTML object>"
      ]
     },
     "metadata": {},
     "output_type": "display_data"
    },
    {
     "name": "stderr",
     "output_type": "stream",
     "text": [
      "/Users/justin/language-translation/nlp-env/lib/python3.9/site-packages/transformers/modeling_utils.py:3339: UserWarning: Moving the following attributes in the config to the generation config: {'max_length': 512, 'num_beams': 4, 'bad_words_ids': [[54795]]}. You are seeing this warning because you've set generation parameters in the model config, as opposed to in the generation config.\n",
      "  warnings.warn(\n",
      "/Users/justin/language-translation/nlp-env/lib/python3.9/site-packages/torch/utils/data/dataloader.py:683: UserWarning: 'pin_memory' argument is set as true but not supported on MPS now, then device pinned memory won't be used.\n",
      "  warnings.warn(warn_msg)\n",
      "/Users/justin/language-translation/nlp-env/lib/python3.9/site-packages/torch/utils/data/dataloader.py:683: UserWarning: 'pin_memory' argument is set as true but not supported on MPS now, then device pinned memory won't be used.\n",
      "  warnings.warn(warn_msg)\n",
      "/Users/justin/language-translation/nlp-env/lib/python3.9/site-packages/torch/utils/data/dataloader.py:683: UserWarning: 'pin_memory' argument is set as true but not supported on MPS now, then device pinned memory won't be used.\n",
      "  warnings.warn(warn_msg)\n",
      "/Users/justin/language-translation/nlp-env/lib/python3.9/site-packages/torch/utils/data/dataloader.py:683: UserWarning: 'pin_memory' argument is set as true but not supported on MPS now, then device pinned memory won't be used.\n",
      "  warnings.warn(warn_msg)\n"
     ]
    },
    {
     "data": {
      "text/plain": [
       "TrainOutput(global_step=500, training_loss=0.5760314331054688, metrics={'train_runtime': 293.5916, 'train_samples_per_second': 13.624, 'train_steps_per_second': 1.703, 'total_flos': 135593459712000.0, 'train_loss': 0.5760314331054688, 'epoch': 5.0})"
      ]
     },
     "execution_count": 17,
     "metadata": {},
     "output_type": "execute_result"
    }
   ],
   "source": [
    "trainer.train()"
   ]
  },
  {
   "cell_type": "code",
   "execution_count": null,
   "metadata": {},
   "outputs": [
    {
     "name": "stderr",
     "output_type": "stream",
     "text": [
      "/Users/justin/language-translation/nlp-env/lib/python3.9/site-packages/torch/utils/data/dataloader.py:683: UserWarning: 'pin_memory' argument is set as true but not supported on MPS now, then device pinned memory won't be used.\n",
      "  warnings.warn(warn_msg)\n"
     ]
    },
    {
     "data": {
      "text/html": [
       "\n",
       "    <div>\n",
       "      \n",
       "      <progress value='13' max='13' style='width:300px; height:20px; vertical-align: middle;'></progress>\n",
       "      [13/13 00:26]\n",
       "    </div>\n",
       "    "
      ],
      "text/plain": [
       "<IPython.core.display.HTML object>"
      ]
     },
     "metadata": {},
     "output_type": "display_data"
    },
    {
     "name": "stdout",
     "output_type": "stream",
     "text": [
      "{'eval_loss': 0.6771600246429443, 'eval_bleu': 20.129872633068832, 'eval_runtime': 28.8033, 'eval_samples_per_second': 3.472, 'eval_steps_per_second': 0.451, 'epoch': 5.0}\n"
     ]
    }
   ],
   "source": [
    "metrics = trainer.evaluate(\n",
    "  max_length=128,\n",
    "  num_beams=6,\n",
    "  length_penalty=0.8\n",
    ")\n",
    "print(metrics)"
   ]
  },
  {
   "cell_type": "code",
   "execution_count": null,
   "metadata": {},
   "outputs": [
    {
     "name": "stdout",
     "output_type": "stream",
     "text": [
      "logged columns → ['eval_loss', 'eval_bleu', 'eval_runtime', 'eval_samples_per_second', 'eval_steps_per_second', 'epoch', 'step', 'loss', 'grad_norm', 'learning_rate', 'train_runtime', 'train_samples_per_second', 'train_steps_per_second', 'total_flos', 'train_loss']\n"
     ]
    },
    {
     "data": {
      "text/html": [
       "<div>\n",
       "<style scoped>\n",
       "    .dataframe tbody tr th:only-of-type {\n",
       "        vertical-align: middle;\n",
       "    }\n",
       "\n",
       "    .dataframe tbody tr th {\n",
       "        vertical-align: top;\n",
       "    }\n",
       "\n",
       "    .dataframe thead th {\n",
       "        text-align: right;\n",
       "    }\n",
       "</style>\n",
       "<table border=\"1\" class=\"dataframe\">\n",
       "  <thead>\n",
       "    <tr style=\"text-align: right;\">\n",
       "      <th></th>\n",
       "      <th>eval_loss</th>\n",
       "      <th>eval_bleu</th>\n",
       "      <th>eval_runtime</th>\n",
       "      <th>eval_samples_per_second</th>\n",
       "      <th>eval_steps_per_second</th>\n",
       "      <th>epoch</th>\n",
       "      <th>step</th>\n",
       "      <th>loss</th>\n",
       "      <th>grad_norm</th>\n",
       "      <th>learning_rate</th>\n",
       "      <th>train_runtime</th>\n",
       "      <th>train_samples_per_second</th>\n",
       "      <th>train_steps_per_second</th>\n",
       "      <th>total_flos</th>\n",
       "      <th>train_loss</th>\n",
       "    </tr>\n",
       "  </thead>\n",
       "  <tbody>\n",
       "    <tr>\n",
       "      <th>0</th>\n",
       "      <td>0.684998</td>\n",
       "      <td>18.235712</td>\n",
       "      <td>23.7070</td>\n",
       "      <td>4.218</td>\n",
       "      <td>0.548</td>\n",
       "      <td>1.0</td>\n",
       "      <td>100</td>\n",
       "      <td>NaN</td>\n",
       "      <td>NaN</td>\n",
       "      <td>NaN</td>\n",
       "      <td>NaN</td>\n",
       "      <td>NaN</td>\n",
       "      <td>NaN</td>\n",
       "      <td>NaN</td>\n",
       "      <td>NaN</td>\n",
       "    </tr>\n",
       "    <tr>\n",
       "      <th>1</th>\n",
       "      <td>0.672100</td>\n",
       "      <td>19.166634</td>\n",
       "      <td>23.6831</td>\n",
       "      <td>4.222</td>\n",
       "      <td>0.549</td>\n",
       "      <td>2.0</td>\n",
       "      <td>200</td>\n",
       "      <td>NaN</td>\n",
       "      <td>NaN</td>\n",
       "      <td>NaN</td>\n",
       "      <td>NaN</td>\n",
       "      <td>NaN</td>\n",
       "      <td>NaN</td>\n",
       "      <td>NaN</td>\n",
       "      <td>NaN</td>\n",
       "    </tr>\n",
       "    <tr>\n",
       "      <th>2</th>\n",
       "      <td>0.671346</td>\n",
       "      <td>19.584352</td>\n",
       "      <td>23.3946</td>\n",
       "      <td>4.274</td>\n",
       "      <td>0.556</td>\n",
       "      <td>3.0</td>\n",
       "      <td>300</td>\n",
       "      <td>NaN</td>\n",
       "      <td>NaN</td>\n",
       "      <td>NaN</td>\n",
       "      <td>NaN</td>\n",
       "      <td>NaN</td>\n",
       "      <td>NaN</td>\n",
       "      <td>NaN</td>\n",
       "      <td>NaN</td>\n",
       "    </tr>\n",
       "    <tr>\n",
       "      <th>3</th>\n",
       "      <td>0.675122</td>\n",
       "      <td>19.771904</td>\n",
       "      <td>23.7300</td>\n",
       "      <td>4.214</td>\n",
       "      <td>0.548</td>\n",
       "      <td>4.0</td>\n",
       "      <td>400</td>\n",
       "      <td>NaN</td>\n",
       "      <td>NaN</td>\n",
       "      <td>NaN</td>\n",
       "      <td>NaN</td>\n",
       "      <td>NaN</td>\n",
       "      <td>NaN</td>\n",
       "      <td>NaN</td>\n",
       "      <td>NaN</td>\n",
       "    </tr>\n",
       "    <tr>\n",
       "      <th>4</th>\n",
       "      <td>NaN</td>\n",
       "      <td>NaN</td>\n",
       "      <td>NaN</td>\n",
       "      <td>NaN</td>\n",
       "      <td>NaN</td>\n",
       "      <td>5.0</td>\n",
       "      <td>500</td>\n",
       "      <td>0.576</td>\n",
       "      <td>1.670571</td>\n",
       "      <td>1.000000e-07</td>\n",
       "      <td>NaN</td>\n",
       "      <td>NaN</td>\n",
       "      <td>NaN</td>\n",
       "      <td>NaN</td>\n",
       "      <td>NaN</td>\n",
       "    </tr>\n",
       "  </tbody>\n",
       "</table>\n",
       "</div>"
      ],
      "text/plain": [
       "   eval_loss  eval_bleu  eval_runtime  eval_samples_per_second  \\\n",
       "0   0.684998  18.235712       23.7070                    4.218   \n",
       "1   0.672100  19.166634       23.6831                    4.222   \n",
       "2   0.671346  19.584352       23.3946                    4.274   \n",
       "3   0.675122  19.771904       23.7300                    4.214   \n",
       "4        NaN        NaN           NaN                      NaN   \n",
       "\n",
       "   eval_steps_per_second  epoch  step   loss  grad_norm  learning_rate  \\\n",
       "0                  0.548    1.0   100    NaN        NaN            NaN   \n",
       "1                  0.549    2.0   200    NaN        NaN            NaN   \n",
       "2                  0.556    3.0   300    NaN        NaN            NaN   \n",
       "3                  0.548    4.0   400    NaN        NaN            NaN   \n",
       "4                    NaN    5.0   500  0.576   1.670571   1.000000e-07   \n",
       "\n",
       "   train_runtime  train_samples_per_second  train_steps_per_second  \\\n",
       "0            NaN                       NaN                     NaN   \n",
       "1            NaN                       NaN                     NaN   \n",
       "2            NaN                       NaN                     NaN   \n",
       "3            NaN                       NaN                     NaN   \n",
       "4            NaN                       NaN                     NaN   \n",
       "\n",
       "   total_flos  train_loss  \n",
       "0         NaN         NaN  \n",
       "1         NaN         NaN  \n",
       "2         NaN         NaN  \n",
       "3         NaN         NaN  \n",
       "4         NaN         NaN  "
      ]
     },
     "metadata": {},
     "output_type": "display_data"
    },
    {
     "data": {
      "text/html": [
       "<div>\n",
       "<style scoped>\n",
       "    .dataframe tbody tr th:only-of-type {\n",
       "        vertical-align: middle;\n",
       "    }\n",
       "\n",
       "    .dataframe tbody tr th {\n",
       "        vertical-align: top;\n",
       "    }\n",
       "\n",
       "    .dataframe thead th {\n",
       "        text-align: right;\n",
       "    }\n",
       "</style>\n",
       "<table border=\"1\" class=\"dataframe\">\n",
       "  <thead>\n",
       "    <tr style=\"text-align: right;\">\n",
       "      <th></th>\n",
       "      <th>eval_loss</th>\n",
       "      <th>eval_bleu</th>\n",
       "      <th>eval_runtime</th>\n",
       "      <th>eval_samples_per_second</th>\n",
       "      <th>eval_steps_per_second</th>\n",
       "      <th>epoch</th>\n",
       "      <th>step</th>\n",
       "      <th>loss</th>\n",
       "      <th>grad_norm</th>\n",
       "      <th>learning_rate</th>\n",
       "      <th>train_runtime</th>\n",
       "      <th>train_samples_per_second</th>\n",
       "      <th>train_steps_per_second</th>\n",
       "      <th>total_flos</th>\n",
       "      <th>train_loss</th>\n",
       "    </tr>\n",
       "  </thead>\n",
       "  <tbody>\n",
       "    <tr>\n",
       "      <th>3</th>\n",
       "      <td>0.675122</td>\n",
       "      <td>19.771904</td>\n",
       "      <td>23.7300</td>\n",
       "      <td>4.214</td>\n",
       "      <td>0.548</td>\n",
       "      <td>4.0</td>\n",
       "      <td>400</td>\n",
       "      <td>NaN</td>\n",
       "      <td>NaN</td>\n",
       "      <td>NaN</td>\n",
       "      <td>NaN</td>\n",
       "      <td>NaN</td>\n",
       "      <td>NaN</td>\n",
       "      <td>NaN</td>\n",
       "      <td>NaN</td>\n",
       "    </tr>\n",
       "    <tr>\n",
       "      <th>4</th>\n",
       "      <td>NaN</td>\n",
       "      <td>NaN</td>\n",
       "      <td>NaN</td>\n",
       "      <td>NaN</td>\n",
       "      <td>NaN</td>\n",
       "      <td>5.0</td>\n",
       "      <td>500</td>\n",
       "      <td>0.576</td>\n",
       "      <td>1.670571</td>\n",
       "      <td>1.000000e-07</td>\n",
       "      <td>NaN</td>\n",
       "      <td>NaN</td>\n",
       "      <td>NaN</td>\n",
       "      <td>NaN</td>\n",
       "      <td>NaN</td>\n",
       "    </tr>\n",
       "    <tr>\n",
       "      <th>5</th>\n",
       "      <td>0.677160</td>\n",
       "      <td>19.985906</td>\n",
       "      <td>23.9692</td>\n",
       "      <td>4.172</td>\n",
       "      <td>0.542</td>\n",
       "      <td>5.0</td>\n",
       "      <td>500</td>\n",
       "      <td>NaN</td>\n",
       "      <td>NaN</td>\n",
       "      <td>NaN</td>\n",
       "      <td>NaN</td>\n",
       "      <td>NaN</td>\n",
       "      <td>NaN</td>\n",
       "      <td>NaN</td>\n",
       "      <td>NaN</td>\n",
       "    </tr>\n",
       "    <tr>\n",
       "      <th>6</th>\n",
       "      <td>NaN</td>\n",
       "      <td>NaN</td>\n",
       "      <td>NaN</td>\n",
       "      <td>NaN</td>\n",
       "      <td>NaN</td>\n",
       "      <td>5.0</td>\n",
       "      <td>500</td>\n",
       "      <td>NaN</td>\n",
       "      <td>NaN</td>\n",
       "      <td>NaN</td>\n",
       "      <td>293.5916</td>\n",
       "      <td>13.624</td>\n",
       "      <td>1.703</td>\n",
       "      <td>1.355935e+14</td>\n",
       "      <td>0.576031</td>\n",
       "    </tr>\n",
       "    <tr>\n",
       "      <th>7</th>\n",
       "      <td>0.677160</td>\n",
       "      <td>20.129873</td>\n",
       "      <td>28.8033</td>\n",
       "      <td>3.472</td>\n",
       "      <td>0.451</td>\n",
       "      <td>5.0</td>\n",
       "      <td>500</td>\n",
       "      <td>NaN</td>\n",
       "      <td>NaN</td>\n",
       "      <td>NaN</td>\n",
       "      <td>NaN</td>\n",
       "      <td>NaN</td>\n",
       "      <td>NaN</td>\n",
       "      <td>NaN</td>\n",
       "      <td>NaN</td>\n",
       "    </tr>\n",
       "  </tbody>\n",
       "</table>\n",
       "</div>"
      ],
      "text/plain": [
       "   eval_loss  eval_bleu  eval_runtime  eval_samples_per_second  \\\n",
       "3   0.675122  19.771904       23.7300                    4.214   \n",
       "4        NaN        NaN           NaN                      NaN   \n",
       "5   0.677160  19.985906       23.9692                    4.172   \n",
       "6        NaN        NaN           NaN                      NaN   \n",
       "7   0.677160  20.129873       28.8033                    3.472   \n",
       "\n",
       "   eval_steps_per_second  epoch  step   loss  grad_norm  learning_rate  \\\n",
       "3                  0.548    4.0   400    NaN        NaN            NaN   \n",
       "4                    NaN    5.0   500  0.576   1.670571   1.000000e-07   \n",
       "5                  0.542    5.0   500    NaN        NaN            NaN   \n",
       "6                    NaN    5.0   500    NaN        NaN            NaN   \n",
       "7                  0.451    5.0   500    NaN        NaN            NaN   \n",
       "\n",
       "   train_runtime  train_samples_per_second  train_steps_per_second  \\\n",
       "3            NaN                       NaN                     NaN   \n",
       "4            NaN                       NaN                     NaN   \n",
       "5            NaN                       NaN                     NaN   \n",
       "6       293.5916                    13.624                   1.703   \n",
       "7            NaN                       NaN                     NaN   \n",
       "\n",
       "     total_flos  train_loss  \n",
       "3           NaN         NaN  \n",
       "4           NaN         NaN  \n",
       "5           NaN         NaN  \n",
       "6  1.355935e+14    0.576031  \n",
       "7           NaN         NaN  "
      ]
     },
     "metadata": {},
     "output_type": "display_data"
    }
   ],
   "source": [
    "import pandas as pd\n",
    "\n",
    "# Pull the log history into a DataFrame\n",
    "history = pd.DataFrame(trainer.state.log_history)\n",
    "\n",
    "# Show what columns we actually have now\n",
    "print(\"logged columns →\", history.columns.tolist())\n",
    "\n",
    "# Show first / last few rows\n",
    "display(history.head())\n",
    "display(history.tail())"
   ]
  },
  {
   "cell_type": "code",
   "execution_count": null,
   "metadata": {},
   "outputs": [
    {
     "data": {
      "image/png": "[encoded data removed]",
      "text/plain": [
       "<Figure size 800x400 with 1 Axes>"
      ]
     },
     "metadata": {},
     "output_type": "display_data"
    },
    {
     "data": {
      "image/png": "[encoded data removed]",
      "text/plain": [
       "<Figure size 800x400 with 1 Axes>"
      ]
     },
     "metadata": {},
     "output_type": "display_data"
    }
   ],
   "source": [
    "import pandas as pd\n",
    "import matplotlib.pyplot as plt\n",
    "\n",
    "# Split out training vs. eval rows by the keys\n",
    "if \"train_loss\" in history:\n",
    "    train_logs = history[history[\"train_loss\"].notna()]\n",
    "elif \"loss\" in history:\n",
    "    train_logs = history[history[\"loss\"].notna()]\n",
    "else:\n",
    "    raise KeyError(\"No train_loss or loss column in history\")\n",
    "\n",
    "eval_logs = history[history.filter(regex=\"^eval_\").any(axis=1)]\n",
    "\n",
    "# Plot training loss over steps\n",
    "plt.figure(figsize=(8,4))\n",
    "plt.plot(\n",
    "    train_logs[\"step\"] if \"step\" in train_logs else train_logs.index,\n",
    "    train_logs.get(\"train_loss\", train_logs.get(\"loss\")),\n",
    "    label=\"train loss\"\n",
    ")\n",
    "plt.xlabel(\"Step\")\n",
    "plt.ylabel(\"Loss\")\n",
    "plt.title(\"Training Loss\")\n",
    "plt.grid(True)\n",
    "plt.legend()\n",
    "plt.tight_layout()\n",
    "plt.show()\n",
    "\n",
    "# Plot eval_loss and eval_bleu over epochs \n",
    "plt.figure(figsize=(8,4))\n",
    "if \"eval_loss\" in eval_logs:\n",
    "    plt.plot(eval_logs[\"epoch\"], eval_logs[\"eval_loss\"], marker=\"o\", label=\"eval loss\")\n",
    "if \"eval_bleu\" in eval_logs:\n",
    "    plt.plot(eval_logs[\"epoch\"], eval_logs[\"eval_bleu\"], marker=\"o\", label=\"eval BLEU\")\n",
    "plt.xlabel(\"Epoch\")\n",
    "plt.title(\"Validation Metrics\")\n",
    "plt.grid(True)\n",
    "plt.legend()\n",
    "plt.tight_layout()\n",
    "plt.show()\n"
   ]
  },
  {
   "cell_type": "code",
   "execution_count": null,
   "metadata": {},
   "outputs": [
    {
     "name": "stdout",
     "output_type": "stream",
     "text": [
      "Using device: mps\n",
      "> EN: Good morning, how are you?\n",
      "< ID: Selamat pagi, apa kabar?\n",
      "\n",
      "> EN: The quick brown fox jumps over the lazy dog.\n",
      "< ID: Rubah cepat coklat melompat di atas anjing malas.\n",
      "\n",
      "> EN: Can you translate this sentence into Indonesian?\n",
      "< ID: Bisa kamu terjemahkan kalimat ini ke indonesia?\n",
      "\n"
     ]
    }
   ],
   "source": [
    "import torch\n",
    "\n",
    "# Pick MPS if available, otherwise CPU\n",
    "device = torch.device(\"mps\") if torch.backends.mps.is_available() else torch.device(\"cpu\")\n",
    "print(\"Using device:\", device)\n",
    "\n",
    "# Move model to that device\n",
    "model.to(device)\n",
    "model.eval()\n",
    "\n",
    "# Prepare some test sentences\n",
    "examples = [\n",
    "    \"Good morning, how are you?\",\n",
    "    \"The quick brown fox jumps over the lazy dog.\",\n",
    "    \"Can you translate this sentence into Indonesian?\"\n",
    "]\n",
    "\n",
    "# Tokenize on CPU, then move the batch to device\n",
    "batch = tokenizer(\n",
    "    examples,\n",
    "    return_tensors=\"pt\",\n",
    "    padding=True,\n",
    "    truncation=True,\n",
    "    max_length=128,\n",
    ")\n",
    "batch = {k: v.to(device) for k,v in batch.items()}\n",
    "\n",
    "# Generate\n",
    "generated_ids = model.generate(\n",
    "    input_ids=batch[\"input_ids\"],\n",
    "    attention_mask=batch[\"attention_mask\"],\n",
    "    max_length=128,\n",
    "    num_beams=4,\n",
    "    length_penalty=0.8,\n",
    "    early_stopping=True,\n",
    ")\n",
    "\n",
    "# Decode back on CPU\n",
    "generated_ids = generated_ids.cpu().numpy()\n",
    "translations = tokenizer.batch_decode(generated_ids, skip_special_tokens=True)\n",
    "\n",
    "# Print\n",
    "for src, tgt in zip(examples, translations):\n",
    "    print(f\"> EN: {src}\")\n",
    "    print(f\"< ID: {tgt}\\n\")"
   ]
  }
 ],
 "metadata": {
  "kernelspec": {
   "display_name": "nlp-env",
   "language": "python",
   "name": "python3"
  },
  "language_info": {
   "codemirror_mode": {
    "name": "ipython",
    "version": 3
   },
   "file_extension": ".py",
   "mimetype": "text/x-python",
   "name": "python",
   "nbconvert_exporter": "python",
   "pygments_lexer": "ipython3",
   "version": "3.9.22"
  }
 },
 "nbformat": 4,
 "nbformat_minor": 2
}
